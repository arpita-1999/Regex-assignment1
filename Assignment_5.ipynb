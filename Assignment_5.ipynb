{
 "cells": [
  {
   "cell_type": "markdown",
   "id": "5cdb3735",
   "metadata": {},
   "source": [
    "# TASK 5- Functions on List\n",
    "## Registration ID- SIRSS2248\n",
    "## Name- Arpita Maharatha"
   ]
  },
  {
   "cell_type": "markdown",
   "id": "d078e4ef",
   "metadata": {},
   "source": [
    "#### Q1. Given a list of integers, write a function to return the sum of all prime numbers in that  list."
   ]
  },
  {
   "cell_type": "code",
   "execution_count": 1,
   "id": "2532fe29",
   "metadata": {},
   "outputs": [
    {
     "name": "stdout",
     "output_type": "stream",
     "text": [
      "Sum of the prime numbers is 17\n",
      "Sum of the prime numbers is 41\n"
     ]
    }
   ],
   "source": [
    "def primesum(lst):\n",
    "    total = 0\n",
    "    for i in lst:\n",
    "        prime = True\n",
    "        if(i>1):\n",
    "            for j in range(2,i):\n",
    "                if (i%j)==0:\n",
    "                    prime = False\n",
    "                    break\n",
    "            if prime:\n",
    "                total += i\n",
    "    return total\n",
    "            \n",
    "print(\"Sum of the prime numbers is\",primesum([1,2,3,4,5,6,7,8]))\n",
    "print(\"Sum of the prime numbers is\",primesum([11,12,13,14,15,16,17]))"
   ]
  },
  {
   "cell_type": "markdown",
   "id": "61304d5f",
   "metadata": {},
   "source": [
    "#### Q2. Given a list of integers, write a function to check whether the list is strictly increasing or not."
   ]
  },
  {
   "cell_type": "code",
   "execution_count": 2,
   "id": "4047cb11",
   "metadata": {},
   "outputs": [
    {
     "name": "stdout",
     "output_type": "stream",
     "text": [
      "Strictly Increasing\n",
      "Not Strictly Increasing\n"
     ]
    }
   ],
   "source": [
    "def increase(lst):\n",
    "    for i in range(len(lst)-1):\n",
    "        if lst[i+1] > lst[i] :\n",
    "            return \"Strictly Increasing\"\n",
    "        else:\n",
    "            return \"Not Strictly Increasing\"\n",
    "    \n",
    "print(increase(sorted([1,2,3,4,5,6,7,8])))\n",
    "print(increase(sorted([1,2,3,3,2,4,5,1])))"
   ]
  },
  {
   "cell_type": "markdown",
   "id": "47580b77",
   "metadata": {},
   "source": [
    "#### Q3. Write a function to check whether a given list is expanding or not (the difference between adjacent elements should keep on increasing)."
   ]
  },
  {
   "cell_type": "code",
   "execution_count": 3,
   "id": "de26b148",
   "metadata": {},
   "outputs": [
    {
     "name": "stdout",
     "output_type": "stream",
     "text": [
      "Not Expanding\n",
      "Expanding\n"
     ]
    }
   ],
   "source": [
    "def expand(lst):\n",
    "    for i in range(len(lst)-2):\n",
    "        if (lst[i+2]-lst[i+1]) > (lst[i+1]-lst[i]) :\n",
    "            return \"Expanding\"\n",
    "        else:\n",
    "            return \"Not Expanding\"\n",
    "\n",
    "print(expand(sorted([2,4,7,3,1,6,5])))\n",
    "print(expand(sorted([15,2,3,9,5,21])))"
   ]
  },
  {
   "cell_type": "markdown",
   "id": "97a3e830",
   "metadata": {},
   "source": [
    "#### Q4. Write a function to calculate all permutations of a given string. (Without using itertools)"
   ]
  },
  {
   "cell_type": "code",
   "execution_count": 4,
   "id": "f0b5c487",
   "metadata": {},
   "outputs": [
    {
     "name": "stdout",
     "output_type": "stream",
     "text": [
      "ABCD\n",
      "Possible permutations are as follows:-\n",
      "ABCD ABDC ACBD ACDB ADBC ADCB BACD BADC BCAD BCDA BDAC BDCA CABD CADB CBAD CBDA CDAB CDBA DABC DACB DBAC DBCA DCAB DCBA "
     ]
    }
   ],
   "source": [
    "def arrange(string, result):\n",
    "    if len(string)==0:\n",
    "        print(result, end =\" \")\n",
    "        return\n",
    "    for i in range(len(string)):\n",
    "        char = string[i]\n",
    "        left = string[:i]\n",
    "        right = string[i+1:]\n",
    "        string1 = left+right\n",
    "        arrange(string1, result+char)\n",
    "\n",
    "result = \"\"\n",
    "string = input()\n",
    "print(\"Possible permutations are as follows:-\")\n",
    "arrange(string, result)"
   ]
  },
  {
   "cell_type": "code",
   "execution_count": null,
   "id": "23b32331",
   "metadata": {},
   "outputs": [],
   "source": []
  }
 ],
 "metadata": {
  "kernelspec": {
   "display_name": "Python 3",
   "language": "python",
   "name": "python3"
  },
  "language_info": {
   "codemirror_mode": {
    "name": "ipython",
    "version": 3
   },
   "file_extension": ".py",
   "mimetype": "text/x-python",
   "name": "python",
   "nbconvert_exporter": "python",
   "pygments_lexer": "ipython3",
   "version": "3.8.8"
  }
 },
 "nbformat": 4,
 "nbformat_minor": 5
}
