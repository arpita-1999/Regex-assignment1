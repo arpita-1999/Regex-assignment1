{
 "cells": [
  {
   "cell_type": "markdown",
   "id": "940f8045",
   "metadata": {},
   "source": [
    "# TASK 2\n",
    "## Registration ID- SIRSS2248\n",
    "## Name- Arpita Maharatha"
   ]
  },
  {
   "cell_type": "code",
   "execution_count": 1,
   "id": "a9c7d969",
   "metadata": {},
   "outputs": [
    {
     "name": "stdout",
     "output_type": "stream",
     "text": [
      "Enter string: what is your name\n",
      "what\n"
     ]
    }
   ],
   "source": [
    "'''Q1. Write a lambda expression to extract first word of a string.'''\n",
    "\n",
    "f0 = lambda str: str.split()[0]\n",
    "\n",
    "str = input(\"Enter string: \")\n",
    "print(f0(str))"
   ]
  },
  {
   "cell_type": "code",
   "execution_count": 2,
   "id": "46f1904b",
   "metadata": {},
   "outputs": [
    {
     "name": "stdout",
     "output_type": "stream",
     "text": [
      "Enter string: my name is arpita\n",
      "my\n"
     ]
    }
   ],
   "source": [
    "'''Q2. Write a function to extract first word of s string (with many words separated by space).'''\n",
    "\n",
    "def first(str): \n",
    "    return str.split()[0]\n",
    "\n",
    "str = input(\"Enter string: \")\n",
    "print(first(str))"
   ]
  },
  {
   "cell_type": "code",
   "execution_count": 3,
   "id": "6b295dca",
   "metadata": {},
   "outputs": [
    {
     "name": "stdout",
     "output_type": "stream",
     "text": [
      "['pop', 'mac', 'apple', 'ham', 'lemon']\n"
     ]
    }
   ],
   "source": [
    "'''Q3. Extract the first word from every string from a list of strings by using map function.'''\n",
    "\n",
    "lst = ['pop corn','mac n cheese','apple pie','ham burger','lemon tart']\n",
    "f = list(map(lambda a: a.split()[0],lst))\n",
    "print(f)"
   ]
  },
  {
   "cell_type": "code",
   "execution_count": 4,
   "id": "c20b4a30",
   "metadata": {},
   "outputs": [
    {
     "name": "stdout",
     "output_type": "stream",
     "text": [
      "Enter a number: 13650\n",
      "[2, 3, 5, 7, 13]\n"
     ]
    }
   ],
   "source": [
    "'''Q4. Write a function to return a list of prime factors of a given number.'''\n",
    "\n",
    "def prime(num):\n",
    "    lst = []\n",
    "    i = 2\n",
    "    while(i <= num):\n",
    "        if(num%i == 0):\n",
    "            lst.append(i)\n",
    "            num = num//i\n",
    "        else:\n",
    "            i += 1\n",
    "    return set(lst)\n",
    "\n",
    "num = int(input(\"Enter a number: \"))\n",
    "print(list(prime(num)))"
   ]
  },
  {
   "cell_type": "code",
   "execution_count": 5,
   "id": "9bc2aae3",
   "metadata": {},
   "outputs": [
    {
     "name": "stdout",
     "output_type": "stream",
     "text": [
      "3 4 5 5  \n",
      "4\n"
     ]
    }
   ],
   "source": [
    "'''Q5. Write a function that finds 2nd largest among 4 numbers (Repetitions are allowed,\n",
    "without sorting).'''\n",
    "\n",
    "def sec_max(lst):\n",
    "    lst = list(set(lst))\n",
    "    lst.sort()\n",
    "    if(len(lst)<2):\n",
    "        return \"Can't be determined.\"\n",
    "    else:\n",
    "        return lst[-2]\n",
    "\n",
    "lst = list(map(int,input().strip().split()))[:4]\n",
    "print(sec_max(lst))\n"
   ]
  },
  {
   "cell_type": "code",
   "execution_count": null,
   "id": "a8dceac7",
   "metadata": {},
   "outputs": [],
   "source": []
  }
 ],
 "metadata": {
  "kernelspec": {
   "display_name": "Python 3",
   "language": "python",
   "name": "python3"
  },
  "language_info": {
   "codemirror_mode": {
    "name": "ipython",
    "version": 3
   },
   "file_extension": ".py",
   "mimetype": "text/x-python",
   "name": "python",
   "nbconvert_exporter": "python",
   "pygments_lexer": "ipython3",
   "version": "3.8.8"
  }
 },
 "nbformat": 4,
 "nbformat_minor": 5
}
