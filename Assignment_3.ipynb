{
 "cells": [
  {
   "cell_type": "markdown",
   "id": "37f65eae",
   "metadata": {},
   "source": [
    "# TASK 3- FUNCTION\n",
    "## Registration ID- SIRSS2248\n",
    "## Name- Arpita Maharatha"
   ]
  },
  {
   "cell_type": "markdown",
   "id": "7dfdd780",
   "metadata": {},
   "source": [
    "#### Q1. Write a function to return nth term of Fibonacci sequence."
   ]
  },
  {
   "cell_type": "code",
   "execution_count": 1,
   "id": "979216b8",
   "metadata": {},
   "outputs": [
    {
     "name": "stdout",
     "output_type": "stream",
     "text": [
      "Which term do you want to view? -3\n",
      "Which term do you want to view? 0\n",
      "Which term do you want to view? 11\n",
      "The term-11 of Fibonacci series is 55\n"
     ]
    }
   ],
   "source": [
    "def fibo(n):\n",
    "    if(n==1):\n",
    "        return 0\n",
    "    elif(n==2):\n",
    "        return 1\n",
    "    else:\n",
    "        return (fibo(n-1)+fibo(n-2))\n",
    "    \n",
    "while(1):\n",
    "    n = int(input(\"Which term do you want to view? \"))\n",
    "    if(n>0):\n",
    "        break\n",
    "        \n",
    "print(\"The term-{0} of Fibonacci series is {1}\".format(n,fibo(n)))"
   ]
  },
  {
   "cell_type": "markdown",
   "id": "e1094219",
   "metadata": {},
   "source": [
    "#### Q2. Write a function to find out GCD of two numbers using EUCLID'S algorithm."
   ]
  },
  {
   "cell_type": "code",
   "execution_count": 2,
   "id": "0c47b7e8",
   "metadata": {},
   "outputs": [
    {
     "name": "stdout",
     "output_type": "stream",
     "text": [
      "Enter first number: 66\n",
      "Enter second numbers: 78\n",
      "GCD of 66 and 78 using EUCLID's Algorithm is 6\n"
     ]
    }
   ],
   "source": [
    "def gcd(n1,n2):\n",
    "    if(n1==0 or n2==0):\n",
    "        return max(n1,n2)\n",
    "    else:\n",
    "        a, b = max(n1,n2), min(n1,n2)\n",
    "        rem = a%b\n",
    "        while(rem!=0):\n",
    "            a = b\n",
    "            b = rem\n",
    "            rem = a%b\n",
    "        return b\n",
    "    \n",
    "n1 = int(input(\"Enter first number: \"))\n",
    "n2 = int(input(\"Enter second numbers: \"))\n",
    "print(\"GCD of {0} and {1} using EUCLID's Algorithm is {2}\".format(n1,n2,gcd(n1,n2)))"
   ]
  },
  {
   "cell_type": "markdown",
   "id": "a4113c26",
   "metadata": {},
   "source": [
    "#### Q3. Write a function to find LCM of two number in most optimizers way."
   ]
  },
  {
   "cell_type": "code",
   "execution_count": 3,
   "id": "86b8f4f4",
   "metadata": {},
   "outputs": [
    {
     "name": "stdout",
     "output_type": "stream",
     "text": [
      "Enter first number: 51\n",
      "Enter second numbers: 27\n",
      "LCM of 51 and 27 is 459\n"
     ]
    }
   ],
   "source": [
    "def lcm(n1,n2):\n",
    "    if(n1==0 or n2==0):\n",
    "        return 0\n",
    "    else:\n",
    "        lcm = max(n1,n2)\n",
    "        while((lcm%n1)!=0 or (lcm%n2)!=0):\n",
    "            lcm += 1\n",
    "        return lcm\n",
    "\n",
    "n1 = int(input(\"Enter first number: \"))\n",
    "n2 = int(input(\"Enter second numbers: \"))\n",
    "print(\"LCM of {0} and {1} is {2}\".format(n1,n2,lcm(n1,n2)))"
   ]
  },
  {
   "cell_type": "code",
   "execution_count": null,
   "id": "b1680f4a",
   "metadata": {},
   "outputs": [],
   "source": []
  }
 ],
 "metadata": {
  "kernelspec": {
   "display_name": "Python 3",
   "language": "python",
   "name": "python3"
  },
  "language_info": {
   "codemirror_mode": {
    "name": "ipython",
    "version": 3
   },
   "file_extension": ".py",
   "mimetype": "text/x-python",
   "name": "python",
   "nbconvert_exporter": "python",
   "pygments_lexer": "ipython3",
   "version": "3.8.8"
  }
 },
 "nbformat": 4,
 "nbformat_minor": 5
}
