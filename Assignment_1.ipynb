{
 "cells": [
  {
   "cell_type": "markdown",
   "id": "86d8dc2c",
   "metadata": {},
   "source": [
    "# TASK 1- Pattern Programming\n",
    "## Registration ID- SIRSS2248\n",
    "## Name- Arpita Maharatha"
   ]
  },
  {
   "cell_type": "code",
   "execution_count": 1,
   "id": "7e392248",
   "metadata": {},
   "outputs": [
    {
     "name": "stdout",
     "output_type": "stream",
     "text": [
      "5 5 5 5 5 \n",
      "5 5 5 5 \n",
      "5 5 5 \n",
      "5 5 \n",
      "5 \n"
     ]
    }
   ],
   "source": [
    "\"\"\"Qs-1:\n",
    "\n",
    "5 5 5 5 5 \n",
    "5 5 5 5 \n",
    "5 5 5 \n",
    "5 5 \n",
    "5 \n",
    "\n",
    "\"\"\"\n",
    "\n",
    "for i in range(1,6):\n",
    "    for j in range(5,i-1,-1):\n",
    "        print(5,end=\" \")\n",
    "    print()"
   ]
  },
  {
   "cell_type": "code",
   "execution_count": 2,
   "id": "095955c4",
   "metadata": {},
   "outputs": [
    {
     "name": "stdout",
     "output_type": "stream",
     "text": [
      "0 1 2 3 4 5 \n",
      "0 1 2 3 4 \n",
      "0 1 2 3 \n",
      "0 1 2 \n",
      "0 1 \n"
     ]
    }
   ],
   "source": [
    "\"\"\"Qs-2:\n",
    "\n",
    "0 1 2 3 4 5 \n",
    "0 1 2 3 4 \n",
    "0 1 2 3 \n",
    "0 1 2 \n",
    "0 1 \n",
    "\n",
    "\"\"\"\n",
    "for i in range(1,6):\n",
    "    for j in range(6,i-1,-1):\n",
    "        print(6-j,end=\" \")\n",
    "    print()"
   ]
  },
  {
   "cell_type": "code",
   "execution_count": 3,
   "id": "f0cafc9e",
   "metadata": {},
   "outputs": [
    {
     "name": "stdout",
     "output_type": "stream",
     "text": [
      "1 \n",
      "3 3 \n",
      "5 5 5 \n",
      "7 7 7 7 \n",
      "9 9 9 9 9 \n"
     ]
    }
   ],
   "source": [
    "\"\"\"Qs-3:\n",
    "\n",
    "1 \n",
    "3 3 \n",
    "5 5 5 \n",
    "7 7 7 7 \n",
    "9 9 9 9 9\n",
    "\n",
    "\"\"\"\n",
    "for i in range(1,6):\n",
    "    for j in range(1,i+1):\n",
    "        print(2*i-1,end=\" \")\n",
    "    print()"
   ]
  },
  {
   "cell_type": "code",
   "execution_count": 4,
   "id": "f18bc2c6",
   "metadata": {},
   "outputs": [
    {
     "name": "stdout",
     "output_type": "stream",
     "text": [
      "1 \n",
      "2 1 \n",
      "3 2 1 \n",
      "4 3 2 1 \n",
      "5 4 3 2 1 \n"
     ]
    }
   ],
   "source": [
    "\"\"\"Qs-4:\n",
    "\n",
    "1 \n",
    "2 1 \n",
    "3 2 1 \n",
    "4 3 2 1 \n",
    "5 4 3 2 1 \n",
    "\n",
    "\"\"\"\n",
    "for i in range(1,6):\n",
    "    for j in range(1,i+1):\n",
    "        print(i-j+1,end=\" \")\n",
    "    print()"
   ]
  },
  {
   "cell_type": "code",
   "execution_count": 5,
   "id": "4dbc5dde",
   "metadata": {},
   "outputs": [
    {
     "name": "stdout",
     "output_type": "stream",
     "text": [
      "1 \n",
      "3 2 \n",
      "6 5 4 \n",
      "10 9 8 7 \n"
     ]
    }
   ],
   "source": [
    "\"\"\"Qs-5:\n",
    "\n",
    "1 \n",
    "3 2 \n",
    "6 5 4 \n",
    "10 9 8 7 \n",
    "\n",
    "\"\"\"\n",
    "c = 0\n",
    "for i in range(1,5):\n",
    "    c = c+i\n",
    "    for j in range(c,c-i,-1):\n",
    "        print(j,end=\" \")\n",
    "    print()"
   ]
  },
  {
   "cell_type": "code",
   "execution_count": 6,
   "id": "7ed944fe",
   "metadata": {},
   "outputs": [
    {
     "name": "stdout",
     "output_type": "stream",
     "text": [
      "1 \n",
      "1 1 \n",
      "1 2 1 \n",
      "1 3 3 1 \n",
      "1 4 6 4 1 \n",
      "1 5 10 10 5 1 \n",
      "1 6 15 20 15 6 1 \n"
     ]
    }
   ],
   "source": [
    "\"\"\"Qs-6:\n",
    "\n",
    "1 \n",
    "1 1 \n",
    "1 2 1 \n",
    "1 3 3 1 \n",
    "1 4 6 4 1 \n",
    "1 5 10 10 5 1 \n",
    "1 6 15 20 15 6 1\n",
    "\n",
    "\"\"\"\n",
    "for i in range(1,8):\n",
    "    n = 1\n",
    "    for j in range(1,i+1):\n",
    "        print(n,end=\" \")\n",
    "        n = n*(i-j)//j\n",
    "    print()"
   ]
  },
  {
   "cell_type": "code",
   "execution_count": 7,
   "id": "bf22c6d7",
   "metadata": {},
   "outputs": [
    {
     "name": "stdout",
     "output_type": "stream",
     "text": [
      "1 2 3 4 5 \n",
      "2 2 3 4 5 \n",
      "3 3 3 4 5 \n",
      "4 4 4 4 5 \n",
      "5 5 5 5 5 \n"
     ]
    }
   ],
   "source": [
    "\"\"\"Qs-7:\n",
    "\n",
    "1 2 3 4 5 \n",
    "2 2 3 4 5 \n",
    "3 3 3 4 5 \n",
    "4 4 4 4 5 \n",
    "5 5 5 5 5 \n",
    "\n",
    "\"\"\"\n",
    "for i in range(1,6):\n",
    "    for j in range(1,6):\n",
    "        if i>j:\n",
    "            print(i,end=\" \")\n",
    "        else:\n",
    "            print(j,end=\" \")\n",
    "    print()"
   ]
  },
  {
   "cell_type": "code",
   "execution_count": 8,
   "id": "3266857d",
   "metadata": {},
   "outputs": [
    {
     "name": "stdout",
     "output_type": "stream",
     "text": [
      "1 \n",
      "2 4 \n",
      "3 6 9 \n",
      "4 8 12 16 \n",
      "5 10 15 20 25 \n",
      "6 12 18 24 30 36 \n",
      "7 14 21 28 35 42 49 \n",
      "8 16 24 32 40 48 56 64 \n"
     ]
    }
   ],
   "source": [
    "\"\"\"Qs-8:\n",
    "\n",
    "1 \n",
    "2 4 \n",
    "3 6 9 \n",
    "4 8 12 16 \n",
    "5 10 15 20 25 \n",
    "6 12 18 24 30 36 \n",
    "7 14 21 28 35 42 49 \n",
    "8 16 24 32 40 48 56 64 \n",
    "\n",
    "\"\"\"\n",
    "for i in range(1,9):\n",
    "    for j in range(1,i+1):\n",
    "        print(i*j,end=\" \")\n",
    "    print()"
   ]
  },
  {
   "cell_type": "code",
   "execution_count": 9,
   "id": "f24421a2",
   "metadata": {},
   "outputs": [
    {
     "name": "stdout",
     "output_type": "stream",
     "text": [
      "* * * * * * \n",
      " * * * * * \n",
      "  * * * * \n",
      "   * * * \n",
      "    * * \n",
      "     * \n"
     ]
    }
   ],
   "source": [
    "\"\"\"Qs-9:\n",
    "\n",
    "* * * * * * \n",
    " * * * * * \n",
    "  * * * * \n",
    "   * * * \n",
    "    * * \n",
    "     * \n",
    "     \n",
    "\"\"\"\n",
    "for i in range(6,0,-1):\n",
    "    for j in range(6,0,-1):\n",
    "        if i>=j:\n",
    "            print(\"* \",end=\"\")\n",
    "        else:\n",
    "            print(\" \",end=\"\")\n",
    "    print()"
   ]
  },
  {
   "cell_type": "code",
   "execution_count": 10,
   "id": "62d200a7",
   "metadata": {},
   "outputs": [
    {
     "name": "stdout",
     "output_type": "stream",
     "text": [
      "       *  \n",
      "      *  *  \n",
      "     *  *  *  \n",
      "    *  *  *  *  \n",
      "   *  *  *  *  *  \n",
      "  *  *  *  *  *  *  \n",
      " *  *  *  *  *  *  *  \n"
     ]
    }
   ],
   "source": [
    "\"\"\"Qs-10:\n",
    "\n",
    "       *  \n",
    "      *  *  \n",
    "     *  *  *  \n",
    "    *  *  *  *  \n",
    "   *  *  *  *  *  \n",
    "  *  *  *  *  *  *  \n",
    " *  *  *  *  *  *  *  \n",
    " \n",
    " \"\"\"\n",
    "for i in range(1,8):\n",
    "    for j in range(8,0,-1):\n",
    "        if j<=i:\n",
    "            print(\"* \",end=\" \")\n",
    "        else:\n",
    "            print(\" \",end=\"\")\n",
    "    print()"
   ]
  },
  {
   "cell_type": "code",
   "execution_count": 11,
   "id": "442eb74c",
   "metadata": {},
   "outputs": [
    {
     "name": "stdout",
     "output_type": "stream",
     "text": [
      "* \n",
      "* * \n",
      "* * * \n",
      "* * * * \n",
      "* * * * * \n",
      "* * * * * * \n",
      "\n",
      "* * * * * * \n",
      "* * * * * \n",
      "* * * * \n",
      "* * * \n",
      "* * \n",
      "* \n"
     ]
    }
   ],
   "source": [
    "\"\"\"Qs-11:\n",
    "\n",
    "* \n",
    "* * \n",
    "* * * \n",
    "* * * * \n",
    "* * * * * \n",
    "* * * * * * \n",
    "\n",
    "* * * * * * \n",
    "* * * * * \n",
    "* * * * \n",
    "* * * \n",
    "* * \n",
    "* \n",
    "\n",
    "\"\"\"\n",
    "for i in range(-6,7):\n",
    "    if i == 0:\n",
    "        print(end=\"\")\n",
    "    else:\n",
    "        for j in range(0,7-abs(i)):\n",
    "            print(\"* \",end=\"\")\n",
    "    print()"
   ]
  },
  {
   "cell_type": "code",
   "execution_count": 12,
   "id": "970f2470",
   "metadata": {},
   "outputs": [
    {
     "name": "stdout",
     "output_type": "stream",
     "text": [
      "* \n",
      "* * \n",
      "* * * \n",
      "* * * * \n",
      "* * * * * \n",
      "* * * * \n",
      "* * * \n",
      "* * \n",
      "* \n"
     ]
    }
   ],
   "source": [
    "\"\"\"Qs-12:\n",
    "\n",
    "* \n",
    "* * \n",
    "* * * \n",
    "* * * * \n",
    "* * * * * \n",
    "* * * * \n",
    "* * * \n",
    "* * \n",
    "* \n",
    "\n",
    "\"\"\"\n",
    "for i in range(-4,5):\n",
    "    for j in range(0,4-abs(i)+1):\n",
    "        print(\"* \",end=\"\")\n",
    "    print()"
   ]
  },
  {
   "cell_type": "code",
   "execution_count": 13,
   "id": "16365dd6",
   "metadata": {},
   "outputs": [
    {
     "name": "stdout",
     "output_type": "stream",
     "text": [
      "        * \n",
      "      * * \n",
      "    * * * \n",
      "  * * * * \n",
      "* * * * * \n",
      "  * * * * \n",
      "    * * * \n",
      "      * * \n",
      "        * \n"
     ]
    }
   ],
   "source": [
    "\"\"\"Qs-13:\n",
    "\n",
    "        * \n",
    "      * * \n",
    "    * * * \n",
    "  * * * * \n",
    "* * * * * \n",
    "  * * * * \n",
    "    * * * \n",
    "      * * \n",
    "        * \n",
    "        \n",
    "\"\"\"\n",
    "for i in range(-4,5):\n",
    "    for j in range(0,5):\n",
    "        if abs(i)>j:\n",
    "            print(\" \",end=\" \")\n",
    "        else:\n",
    "            print(\"*\",end=\" \")\n",
    "    print()"
   ]
  },
  {
   "cell_type": "code",
   "execution_count": 14,
   "id": "d77a99b2",
   "metadata": {},
   "outputs": [
    {
     "name": "stdout",
     "output_type": "stream",
     "text": [
      "* * * * * \n",
      " * * * * \n",
      "  * * * \n",
      "   * * \n",
      "    * \n",
      "   * * \n",
      "  * * * \n",
      " * * * * \n",
      "* * * * * \n"
     ]
    }
   ],
   "source": [
    "\"\"\"Qs-14:\n",
    "\n",
    "* * * * * \n",
    " * * * * \n",
    "  * * * \n",
    "   * * \n",
    "    * \n",
    "   * * \n",
    "  * * * \n",
    " * * * * \n",
    "* * * * * \n",
    "\n",
    "\"\"\"\n",
    "for i in range(-4,5):\n",
    "    for j in range(5,0,-1):\n",
    "        if (abs(i)+1)>=j:\n",
    "            print(\"* \",end=\"\")\n",
    "        else:\n",
    "            print(\" \",end=\"\")\n",
    "    print()"
   ]
  },
  {
   "cell_type": "code",
   "execution_count": 15,
   "id": "6ecf6b3f",
   "metadata": {},
   "outputs": [
    {
     "name": "stdout",
     "output_type": "stream",
     "text": [
      "****************\n",
      "*******__*******\n",
      "******____******\n",
      "*****______*****\n",
      "****________****\n",
      "***__________***\n",
      "**____________**\n",
      "*______________*\n"
     ]
    }
   ],
   "source": [
    "\"\"\"Qs-15:\n",
    "\n",
    "****************\n",
    "*******__*******\n",
    "******____******\n",
    "*****______*****\n",
    "****________****\n",
    "***__________***\n",
    "**____________**\n",
    "*______________*\n",
    "\n",
    "\"\"\"\n",
    "for i in range(1,9):\n",
    "    for j in range(1,17):\n",
    "        if j>=(8-(i-1)+1) and j<=(8+(i-1)):\n",
    "            print(\"_\",end=\"\")\n",
    "        else:\n",
    "            print(\"*\",end=\"\")\n",
    "    print()"
   ]
  }
 ],
 "metadata": {
  "kernelspec": {
   "display_name": "Python 3",
   "language": "python",
   "name": "python3"
  },
  "language_info": {
   "codemirror_mode": {
    "name": "ipython",
    "version": 3
   },
   "file_extension": ".py",
   "mimetype": "text/x-python",
   "name": "python",
   "nbconvert_exporter": "python",
   "pygments_lexer": "ipython3",
   "version": "3.8.8"
  }
 },
 "nbformat": 4,
 "nbformat_minor": 5
}
